{
 "cells": [
  {
   "cell_type": "code",
   "execution_count": 68,
   "metadata": {
    "collapsed": true
   },
   "outputs": [],
   "source": [
    "import json\n",
    "import re"
   ]
  },
  {
   "cell_type": "code",
   "execution_count": 37,
   "metadata": {},
   "outputs": [],
   "source": [
    "data = []\n",
    "with open(\"charlotteProtest.json\",encoding=\"UTF-8\") as jsonFile:\n",
    "    for i,tweet in enumerate(jsonFile):\n",
    "        if i < 10000:\n",
    "            data.append(json.loads(tweet))"
   ]
  },
  {
   "cell_type": "code",
   "execution_count": 4,
   "metadata": {},
   "outputs": [
    {
     "data": {
      "text/plain": [
       "10000"
      ]
     },
     "execution_count": 4,
     "metadata": {},
     "output_type": "execute_result"
    }
   ],
   "source": [
    "len(data)"
   ]
  },
  {
   "cell_type": "code",
   "execution_count": 18,
   "metadata": {},
   "outputs": [],
   "source": [
    "from nltk import word_tokenize"
   ]
  },
  {
   "cell_type": "code",
   "execution_count": 12,
   "metadata": {},
   "outputs": [],
   "source": [
    "textData = [d[\"body\"] for d in data]"
   ]
  },
  {
   "cell_type": "code",
   "execution_count": 19,
   "metadata": {},
   "outputs": [
    {
     "data": {
      "text/plain": [
       "['So',\n",
       " '12',\n",
       " 'jus',\n",
       " 'not',\n",
       " 'gon',\n",
       " 'na',\n",
       " 'stop',\n",
       " 'killing',\n",
       " 'ppl',\n",
       " 'I',\n",
       " 'see',\n",
       " '...',\n",
       " 'Yesterday',\n",
       " '1000',\n",
       " 'miles',\n",
       " 'away',\n",
       " 'today',\n",
       " '1.5',\n",
       " 'miles',\n",
       " 'away',\n",
       " '...',\n",
       " '#',\n",
       " 'PrayersForCharlotte']"
      ]
     },
     "execution_count": 19,
     "metadata": {},
     "output_type": "execute_result"
    }
   ],
   "source": [
    "word_tokenize(textData[0])"
   ]
  },
  {
   "cell_type": "code",
   "execution_count": 63,
   "metadata": {},
   "outputs": [],
   "source": [
    "import nltk\n",
    "from nltk.corpus import stopwords\n",
    "from nltk.stem import WordNetLemmatizer\n",
    "lemmatizer = WordNetLemmatizer()\n",
    "stopwords = set(stopwords.words('english'))"
   ]
  },
  {
   "cell_type": "code",
   "execution_count": null,
   "metadata": {
    "collapsed": true
   },
   "outputs": [],
   "source": []
  },
  {
   "cell_type": "code",
   "execution_count": 56,
   "metadata": {},
   "outputs": [
    {
     "ename": "NameError",
     "evalue": "name 'tokensNoStopword' is not defined",
     "output_type": "error",
     "traceback": [
      "\u001b[1;31m---------------------------------------------------------------------------\u001b[0m",
      "\u001b[1;31mNameError\u001b[0m                                 Traceback (most recent call last)",
      "\u001b[1;32m<ipython-input-56-0a07fade8ad0>\u001b[0m in \u001b[0;36m<module>\u001b[1;34m()\u001b[0m\n\u001b[1;32m----> 1\u001b[1;33m \u001b[0mpreprocessSentence\u001b[0m\u001b[1;33m(\u001b[0m\u001b[0mtextData\u001b[0m\u001b[1;33m[\u001b[0m\u001b[1;36m2\u001b[0m\u001b[1;33m]\u001b[0m\u001b[1;33m)\u001b[0m\u001b[1;33m\u001b[0m\u001b[0m\n\u001b[0m",
      "\u001b[1;32m<ipython-input-47-e083291a8ac8>\u001b[0m in \u001b[0;36mpreprocessSentence\u001b[1;34m(text)\u001b[0m\n\u001b[0;32m      3\u001b[0m \u001b[1;31m#     tokens = word_tokenize(text)\u001b[0m\u001b[1;33m\u001b[0m\u001b[1;33m\u001b[0m\u001b[0m\n\u001b[0;32m      4\u001b[0m \u001b[1;31m#     tokensNoStopword = [lemmatizer.lemmatize(w) for w in tokens if w not in stopwords]\u001b[0m\u001b[1;33m\u001b[0m\u001b[1;33m\u001b[0m\u001b[0m\n\u001b[1;32m----> 5\u001b[1;33m     \u001b[1;32mreturn\u001b[0m \u001b[0mtokensNoStopword\u001b[0m\u001b[1;33m\u001b[0m\u001b[0m\n\u001b[0m",
      "\u001b[1;31mNameError\u001b[0m: name 'tokensNoStopword' is not defined"
     ]
    }
   ],
   "source": [
    "preprocessSentence(textData[2])"
   ]
  },
  {
   "cell_type": "code",
   "execution_count": 38,
   "metadata": {
    "collapsed": true
   },
   "outputs": [],
   "source": [
    "from textblob import TextBlob"
   ]
  },
  {
   "cell_type": "code",
   "execution_count": 39,
   "metadata": {
    "collapsed": true
   },
   "outputs": [],
   "source": [
    "t = TextBlob(textData[0])"
   ]
  },
  {
   "cell_type": "code",
   "execution_count": 41,
   "metadata": {},
   "outputs": [
    {
     "name": "stdout",
     "output_type": "stream",
     "text": [
      "So 12 jus not gonna stop killing ppl I see...\n",
      "Yesterday 1000 miles away today 1.5 miles away... #PrayersForCharlotte\n"
     ]
    }
   ],
   "source": [
    "for sentence in t.sentences:\n",
    "    print(sentence)"
   ]
  },
  {
   "cell_type": "code",
   "execution_count": 42,
   "metadata": {},
   "outputs": [
    {
     "name": "stdout",
     "output_type": "stream",
     "text": [
      "So\n",
      "12\n",
      "jus\n",
      "not\n",
      "gon\n",
      "na\n",
      "stop\n",
      "killing\n",
      "ppl\n",
      "I\n",
      "see\n",
      "Yesterday\n",
      "1000\n",
      "miles\n",
      "away\n",
      "today\n",
      "1.5\n",
      "miles\n",
      "away\n",
      "PrayersForCharlotte\n"
     ]
    }
   ],
   "source": [
    "for word in t.words:\n",
    "    print(word)"
   ]
  },
  {
   "cell_type": "code",
   "execution_count": 44,
   "metadata": {},
   "outputs": [],
   "source": [
    "tweetTokens = []\n",
    "for tweet in textData:\n",
    "    tokens = TextBlob(tweet).words\n",
    "    tweetTokens.append(tokens)"
   ]
  },
  {
   "cell_type": "code",
   "execution_count": 45,
   "metadata": {},
   "outputs": [
    {
     "data": {
      "text/plain": [
       "[WordList(['So', '12', 'jus', 'not', 'gon', 'na', 'stop', 'killing', 'ppl', 'I', 'see', 'Yesterday', '1000', 'miles', 'away', 'today', '1.5', 'miles', 'away', 'PrayersForCharlotte']),\n",
       " WordList(['RT', 'MrStinkFingers', 'KeithScott', 'blacklivesmatter']),\n",
       " WordList(['KeithScott', 'blacklivesmatter']),\n",
       " WordList(['RT', 'MrStinkFingers', 'KeithScott', 'blacklivesmatter']),\n",
       " WordList(['RT', 'MrsStinkFingers', 'AutumnNAlston', 'MrStinkFingers', 'KeithScott']),\n",
       " WordList(['AutumnNAlston', 'MrStinkFingers', 'KeithScott']),\n",
       " WordList(['I', \"'m\", 'literally', 'disgusted', 'and', 'distraught', 'KeithScott', 'Charlotte']),\n",
       " WordList(['KeithScott']),\n",
       " WordList(['KeithScott', '🙏🏽']),\n",
       " WordList(['RT', 'AutumnNAlston', 'I', \"'m\", 'literally', 'disgusted', 'and', 'distraught', 'KeithScott', 'Charlotte']),\n",
       " WordList(['RT', 'AutumnNAlston', 'I', \"'m\", 'literally', 'disgusted', 'and', 'distraught', 'KeithScott', 'Charlotte']),\n",
       " WordList(['Another', 'Hashtag', 'HERE', 'IN', 'CHARLOTTE', 'Smh', 'KeithLamontScott']),\n",
       " WordList(['KeithLamontScott']),\n",
       " WordList(['blacklivesmatter', 'keithscott', 'TerenceCruthcher', 'saytheirnames']),\n",
       " WordList(['KeithLamontScott', 'TheFist']),\n",
       " WordList(['KeithLamontScott', 'TerenceCrutcher', 'BlackLivesMatter', '🙏🏾', 'just', 'not', 'while', 'in', 'police', 'hands', '😒']),\n",
       " WordList(['KeithLamontScott', 'https', 't.co/VgcJvurYGT']),\n",
       " WordList(['RT', 'JazzieMuzic', 'KeithLamontScott', 'TerenceCrutcher', 'BlackLivesMatter', '🙏🏾', 'just', 'not', 'while', 'in', 'police', 'hands', '😒']),\n",
       " WordList(['keithlamontscott', 'was', 'just', 'shot', 'down', 'in', 'Charlotte', 'NC']),\n",
       " WordList(['KeithLamontScott', '🙏💔']),\n",
       " WordList(['The', 'police', 'shot', 'another', 'black', 'man', 'a', 'disabled', 'one', 'keithlamontscott', 'https', 't.co/4iWRoLo9Qh']),\n",
       " WordList(['RT', 'deejaepea', 'keithlamontscott', 'was', 'just', 'shot', 'down', 'in', 'Charlotte', 'NC']),\n",
       " WordList(['KeithLamontScott', 'https', 't.co/u9BnPtWcxB']),\n",
       " WordList(['KEITHSCOTT', 'another', 'hashtag', 'coming', 'our', 'way']),\n",
       " WordList(['Another', 'black', 'man', 'murdered', 'today', 'by', 'police', 'in', 'NC', 'today', '😪', 'KeithLamontScott']),\n",
       " WordList(['KeithLamontScott', 'enoughisenough', 'stopkillingus']),\n",
       " WordList(['RT', 'Truthbytony', 'The', 'police', 'shot', 'another', 'black', 'man', 'a', 'disabled', 'one', 'keithlamontscott', 'https', 't.co/4iWRoLo9Qh']),\n",
       " WordList(['KeithLamontScott']),\n",
       " WordList(['KeithLamontScott', '🙏🏾😔']),\n",
       " WordList(['Truly', 'praying', 'for', 'my', 'city', 'This', 'is', 'not', 'good', 'KeithScott', 'BlackLivesMatter']),\n",
       " WordList(['RT', 'marquez_bay', 'Another', 'Hashtag', 'HERE', 'IN', 'CHARLOTTE', 'Smh', 'KeithLamontScott']),\n",
       " WordList(['https', 't.co/rhG8RGYlaX', 'We', 'ca', \"n't\", 'even', 'grieve', 'for', '1', 'before', 'another', 'joins', 'BlackLivesMatter', 'OrDoThey', 'TerrenceCrutcher', 'KeithScott']),\n",
       " WordList(['RT', 'AutumnNAlston', 'Truly', 'praying', 'for', 'my', 'city', 'This', 'is', 'not', 'good', 'KeithScott', 'BlackLivesMatter']),\n",
       " WordList(['Shot', 'and', 'killed', 'a', 'disabled', 'man', 'wtf', 'could', 'he', 'have', 'possibly', 'done', 'Fucking', 'idiots', 'KeithLamontScott', 'BlackLivesMatter']),\n",
       " WordList(['This', 'does', \"n't\", 'make', 'any', 'sense', 'at', 'all', 'SMH', 'KeithLamontScott', 'https', 't.co/HSQYGDXkyS']),\n",
       " WordList(['Another', 'Day', 'Another', 'Hashtag', 'BlackLivesMatter', 'KeithLamontScott', 'EnoughIsEnough']),\n",
       " WordList(['keithlamontscott']),\n",
       " WordList(['RT', 'AutumnNAlston', 'Truly', 'praying', 'for', 'my', 'city', 'This', 'is', 'not', 'good', 'KeithScott', 'BlackLivesMatter']),\n",
       " WordList(['RT', 'marquez_bay', 'Another', 'Hashtag', 'HERE', 'IN', 'CHARLOTTE', 'Smh', 'KeithLamontScott']),\n",
       " WordList(['Yet', 'another', 'blackpersonsname', 'KeithScott', 'BlackLivesMatter', 'RIP', 'Charlotte']),\n",
       " WordList(['We', 'are', 'literally', 'watching', 'ourselves', 'being', 'killed', 'everyday', 'like', 'it', \"'s\", 'the', 'Hunger', 'Games', 'Here', 'goes', 'another', 'one', 'KeithScott', 'BlackLivesMatter']),\n",
       " WordList(['Another', 'shot', 'and', 'killed', 'in', 'CHARLOTTE', 'NC', 'Keithlamontscott', 'who', 'apparently', 'was', 'disabled..oh', 'and', 'they', 'planted', 'a', 'gun', 'on', 'him..WTF', 'MAN']),\n",
       " WordList(['AND', 'ANOTHER', 'ONE', '\\U000fe33d✊🏽✊🏿✊🏾', 'via', 'TheRoot', 'KeithScott', 'disabled', 'black', 'man', 'has', 'died', 'at', 'the', 'hospital', 'after', 'being', 'shot', 'https', 't.co/s5gE72vytL']),\n",
       " WordList(['RT', 'MrStinkFingers', 'BlackLivesMatter', 'CLT', 'Today', 'we', 'say', 'the', 'name', 'KeithScott', 'One', 'month', 'ago', 'it', 'was', 'DanielHarris', 'Rest', 'In', 'Power']),\n",
       " WordList(['KeithScott']),\n",
       " WordList(['BlackLivesMatter', 'CLT', 'Today', 'we', 'say', 'the', 'name', 'KeithScott', 'One', 'month', 'ago', 'it', 'was', 'DanielHarris', 'Rest', 'In', 'Power']),\n",
       " WordList(['RT', 'Deeanthony_GOES', 'Another', 'shot', 'and', 'killed', 'in', 'CHARLOTTE', 'NC', 'Keithlamontscott', 'who', 'apparently', 'was', 'disabled..oh', 'and', 'they', 'planted', 'a', 'gun', 'on', 'hi…']),\n",
       " WordList(['His', 'name', 'was', 'KeithScott', 'BlackLivesMatter', 'https', 't.co/4KNL3ssogD']),\n",
       " WordList(['KeithScott', 'is', 'not', 'just', 'a', 'dot', 'He', 'was', 'a', 'father', 'of', '7', 'and', 'waiting', 'for', 'his', 'son', 'to', 'get', 'off', 'the', 'bus', 'Holding', 'a', 'BOOK.…', 'https', 't.co/VPW4OSP8gK']),\n",
       " WordList(['RT', 'Deeanthony_GOES', 'Another', 'shot', 'and', 'killed', 'in', 'CHARLOTTE', 'NC', 'Keithlamontscott', 'who', 'apparently', 'was', 'disabled..oh', 'and', 'they', 'planted', 'a', 'gun', 'on', 'hi…']),\n",
       " WordList(['So', 'again', 'another', 'hashtag', 'KeithLamontScott', 'https', 't.co/gOoMnNeMpy']),\n",
       " WordList(['And', 'another', 'one', 'KeithScott', '—', 'feeling', 'heartbroken']),\n",
       " WordList(['POTUS', 'why', 'are', 'you', 'allowing', 'cops', 'to', 'exterminate', 'black', 'americans', 'keithlamontscott', 'TerenceCruthcher']),\n",
       " WordList(['Sad', 'to', 'hear', 'what', 'happened', 'in', 'Charlotte', '😔', 'keithlamontscott']),\n",
       " WordList(['RT', 'StewartColes', 'His', 'name', 'was', 'KeithScott', 'BlackLivesMatter', 'https', 't.co/4KNL3ssogD']),\n",
       " WordList(['KeithLamontScott', 'Not', 'again', 'My', 'soul', 'is', 'weeping', '🙏🏾']),\n",
       " WordList(['RT', 'MeganBrogue', 'KeithScott', 'is', 'not', 'just', 'a', 'dot', 'He', 'was', 'a', 'father', 'of', '7', 'and', 'waiting', 'for', 'his', 'son', 'to', 'get', 'off', 'the', 'bus', 'Holding', 'a', 'BOOK.…']),\n",
       " WordList(['RT', 'StewartColes', 'His', 'name', 'was', 'KeithScott', 'BlackLivesMatter', 'https', 't.co/4KNL3ssogD']),\n",
       " WordList(['RT', 'jordan_budd', 'KeithScott']),\n",
       " WordList(['Fuck', 'the', 'CMPD', 'See', 'how', 'they', 'trying', 'to', 'spread', 'bullshit', 'and', 'say', 'KeithLamontScott', 'had', 'a', 'gun', 'instead', 'of', 'a', 'BOOK', 'SMH']),\n",
       " WordList(['Siting', 'in', 'his', 'car', 'in', 'front', 'of', 'his', 'house', 'amp', 'waiting', 'for', 'his', 'kids', 'to', 'get', 'home', 'a', 'disabled', 'man', 'was', 'shot', 'KeithLamontScott', 'BlackLivesMatter']),\n",
       " WordList(['KeithLamontScott']),\n",
       " WordList(['RT', 'miiimiii', 'Shot', 'and', 'killed', 'a', 'disabled', 'man', 'wtf', 'could', 'he', 'have', 'possibly', 'done', 'Fucking', 'idiots', 'KeithLamontScott', 'BlackLivesMatter']),\n",
       " WordList(['RT', 'JazzieMuzic', 'KeithLamontScott', 'TerenceCrutcher', 'BlackLivesMatter', '🙏🏾', 'just', 'not', 'while', 'in', 'police', 'hands', '😒']),\n",
       " WordList(['Damn', 'reading', 'while', 'black', 'a', 'crime', 'now', 'BlackLivesMatter', 'KeithLamontScott']),\n",
       " WordList(['RT', 'AshleeJamise', 'Another', 'Day', 'Another', 'Hashtag', 'BlackLivesMatter', 'KeithLamontScott', 'EnoughIsEnough']),\n",
       " WordList(['RT', 'jordan_budd', 'KeithScott']),\n",
       " WordList(['TerenceCrutcher', 'KeithLamontScott']),\n",
       " WordList(['RT', 'MeganBrogue', 'KeithScott', 'is', 'not', 'just', 'a', 'dot', 'He', 'was', 'a', 'father', 'of', '7', 'and', 'waiting', 'for', 'his', 'son', 'to', 'get', 'off', 'the', 'bus', 'Holding', 'a', 'BOOK.…']),\n",
       " WordList(['KeithScott', 'another', 'one', 'God', 'Bless', 'those', 'who', 'have', 'the', 'patients', 'to', 'argue', 'wit', 'stupid', 'motherfuckers', 'who', 'cant', 'see', 'this', 'shit', 'being', 'done', 'on', 'purpose']),\n",
       " WordList(['RT', 'TerriTelevision', 'AND', 'ANOTHER', 'ONE', '\\U000fe33d✊🏽✊🏿✊🏾', 'via', 'TheRoot', 'KeithScott', 'disabled', 'black', 'man', 'has', 'died', 'at', 'the', 'hospital', 'after', 'being', 'shot', 'h…']),\n",
       " WordList(['Keithlamontscott']),\n",
       " WordList(['Rip', 'Keith', 'Lamont', 'Scott', 'of', 'Charlotte', 'Nc', 'Stand', 'up', 'father', 'shot', 'down', 'while', 'reading', 'a', 'damn', 'book', 'outraged', 'keithlamontscott']),\n",
       " WordList(['RT', 'MeganBrogue', 'KeithScott', 'is', 'not', 'just', 'a', 'dot', 'He', 'was', 'a', 'father', 'of', '7', 'and', 'waiting', 'for', 'his', 'son', 'to', 'get', 'off', 'the', 'bus', 'Holding', 'a', 'BOOK.…']),\n",
       " WordList(['RT', 'marquez_bay', 'Another', 'Hashtag', 'HERE', 'IN', 'CHARLOTTE', 'Smh', 'KeithLamontScott']),\n",
       " WordList(['RT', 'chabooyaw', 'Rip', 'Keith', 'Lamont', 'Scott', 'of', 'Charlotte', 'Nc', 'Stand', 'up', 'father', 'shot', 'down', 'while', 'reading', 'a', 'damn', 'book', 'outraged', 'keithlamontscott']),\n",
       " WordList(['CMPD', 'video', 'evidence', 'Chief', 'has', 'said', 'in', 'community', 'forums', 'that', 'Undercover', 'Officers', 'do', 'not', 'wear', 'cameras', 'as', 'it', 'could', 'reveal', 'tactics', 'KeithScott']),\n",
       " WordList(['RT', 'Cookiebaby23', 'Siting', 'in', 'his', 'car', 'in', 'front', 'of', 'his', 'house', 'amp', 'waiting', 'for', 'his', 'kids', 'to', 'get', 'home', 'a', 'disabled', 'man', 'was', 'shot', 'KeithLamontScott', 'B…']),\n",
       " WordList(['RT', 'marquez_bay', 'Another', 'Hashtag', 'HERE', 'IN', 'CHARLOTTE', 'Smh', 'KeithLamontScott']),\n",
       " WordList(['KeithLamontScott', 'Killed', 'by', 'the', 'Police', 'in', 'Charlotte', 'NC', 'Was', 'Reading', 'a', 'Book', 'Disabled', 'Witnesses', 'said', 'he', 'was', 'UNARMED', 'EnoughIsEnough']),\n",
       " WordList(['RT', 'thedeannapbell', 'We', 'are', 'literally', 'watching', 'ourselves', 'being', 'killed', 'everyday', 'like', 'it', \"'s\", 'the', 'Hunger', 'Games', 'Here', 'goes', 'another', 'one', 'KeithSc…']),\n",
       " WordList(['fkkkkk', 'man', 'ANOTHER', 'ONE', 'KeithLamontScott']),\n",
       " WordList(['KeithLamontScott']),\n",
       " WordList(['KeithLamontScott']),\n",
       " WordList(['keithlamontscott']),\n",
       " WordList(['RT', 'marquez_bay', 'KeithLamontScott', 'Killed', 'by', 'the', 'Police', 'in', 'Charlotte', 'NC', 'Was', 'Reading', 'a', 'Book', 'Disabled', 'Witnesses', 'said', 'he', 'was', 'UNARMED…']),\n",
       " WordList(['KeithLamontScott', 'This', 'man', 'was', 'disabled', 'How', 'sickening', 'Someone', 'needs', 'to', 'be', 'held', 'accountable']),\n",
       " WordList(['Now', 'this', 'is', 'the', 'Diary', 'of', 'a', 'Angry', 'Black', 'Woman', 'KeithLamontScott']),\n",
       " WordList(['RT', 'marquez_bay', 'KeithLamontScott', 'Killed', 'by', 'the', 'Police', 'in', 'Charlotte', 'NC', 'Was', 'Reading', 'a', 'Book', 'Disabled', 'Witnesses', 'said', 'he', 'was', 'UNARMED…']),\n",
       " WordList(['RT', 'chabooyaw', 'Rip', 'Keith', 'Lamont', 'Scott', 'of', 'Charlotte', 'Nc', 'Stand', 'up', 'father', 'shot', 'down', 'while', 'reading', 'a', 'damn', 'book', 'outraged', 'keithlamontscott']),\n",
       " WordList(['RT', 'marquez_bay', 'KeithLamontScott', 'Killed', 'by', 'the', 'Police', 'in', 'Charlotte', 'NC', 'Was', 'Reading', 'a', 'Book', 'Disabled', 'Witnesses', 'said', 'he', 'was', 'UNARMED…']),\n",
       " WordList(['here', 'we', 'go', 'again', 'CharlotteMurder', 'DisabledMan', 'Black', 'ReadingABook', 'MistakenIdentity', 'WaitingOnSon', 'Tased', 'ShotDead', 'KeithLamontScott']),\n",
       " WordList(['RT', 'marquez_bay', 'KeithLamontScott', 'Killed', 'by', 'the', 'Police', 'in', 'Charlotte', 'NC', 'Was', 'Reading', 'a', 'Book', 'Disabled', 'Witnesses', 'said', 'he', 'was', 'UNARMED…']),\n",
       " WordList(['WHAT', 'ANOTHER', 'ONE', 'KeithLamontScott']),\n",
       " WordList(['EEEEEElijah', 'So', 'they', 'were', 'looking', 'for', 'someone', 'else', 'shot', 'TerenceCrutcher', 'on', 'the', 'way', 'Looking', 'for', 'someone', 'else', 'shot', 'KeithScott', 'on', 'the', 'way']),\n",
       " WordList(['keithlamontscott']),\n",
       " WordList(['KeithLamontScott']),\n",
       " WordList(['IM', 'SO', 'FUCKING', 'TIRED', 'IM', 'SO', 'FUCKING', 'TIRED', 'IM', 'SO', 'FUCKING', 'TIRED', 'KeithLamontScott']),\n",
       " WordList(['KeithLamontScott', 'another', 'black', 'man', 'that', 'was', 'disabled', 'was', 'just', 'murdered', 'by', 'police', 'in', 'Charlotte', 'NC']),\n",
       " WordList(['RT', 'thedeannapbell', 'We', 'are', 'literally', 'watching', 'ourselves', 'being', 'killed', 'everyday', 'like', 'it', \"'s\", 'the', 'Hunger', 'Games', 'Here', 'goes', 'another', 'one', 'KeithSc…'])]"
      ]
     },
     "execution_count": 45,
     "metadata": {},
     "output_type": "execute_result"
    }
   ],
   "source": [
    "tweetTokens[:100]"
   ]
  },
  {
   "cell_type": "code",
   "execution_count": 78,
   "metadata": {
    "collapsed": true
   },
   "outputs": [],
   "source": [
    "def preprocessTweet(text):\n",
    "    text = text.lower()\n",
    "    text = re.sub(\"http[s]?://(?:[a-zA-Z]|[0-9]|[$-_@.&+]|[!*\\(\\),]|(?:%[0-9a-fA-F][0-9a-fA-F]))+\",\"\",text)\n",
    "    text = text.replace(\"rt\",\"\")\n",
    "    #other stuff go here\n",
    "    tokens = TextBlob(text).words\n",
    "    tokens = [w for w in tokens if w not in stopwords]\n",
    "    tokens = [lemmatizer.lemmatize(w) for w in tokens]\n",
    "    return tokens"
   ]
  },
  {
   "cell_type": "code",
   "execution_count": 79,
   "metadata": {},
   "outputs": [
    {
     "data": {
      "text/plain": [
       "['keithscott', '🙏🏽']"
      ]
     },
     "execution_count": 79,
     "metadata": {},
     "output_type": "execute_result"
    }
   ],
   "source": [
    "preprocessTweet(textData[8])"
   ]
  },
  {
   "cell_type": "code",
   "execution_count": 81,
   "metadata": {},
   "outputs": [
    {
     "name": "stdout",
     "output_type": "stream",
     "text": [
      "['12', 'jus', 'gon', 'na', 'stop', 'killing', 'ppl', 'see', 'yesterday', '1000', 'mile', 'away', 'today', '1.5', 'mile', 'away', 'prayersforcharlotte']\n",
      "['mrstinkfingers', 'keithscott', 'blacklivesmatter']\n",
      "['keithscott', 'blacklivesmatter']\n",
      "['mrstinkfingers', 'keithscott', 'blacklivesmatter']\n",
      "['mrsstinkfingers', 'autumnnalston', 'mrstinkfingers', 'keithscott']\n",
      "['autumnnalston', 'mrstinkfingers', 'keithscott']\n",
      "[\"'m\", 'literally', 'disgusted', 'distraught', 'keithscott', 'charlotte']\n",
      "['keithscott']\n",
      "['keithscott', '🙏🏽']\n",
      "['autumnnalston', \"'m\", 'literally', 'disgusted', 'distraught', 'keithscott', 'charlotte']\n",
      "['autumnnalston', \"'m\", 'literally', 'disgusted', 'distraught', 'keithscott', 'charlotte']\n",
      "['another', 'hashtag', 'charlotte', 'smh', 'keithlamontscott']\n",
      "['keithlamontscott']\n",
      "['blacklivesmatter', 'keithscott', 'terencecruthcher', 'saytheirnames']\n",
      "['keithlamontscott', 'thefist']\n",
      "['keithlamontscott', 'terencecrutcher', 'blacklivesmatter', '🙏🏾', 'police', 'hand', '😒']\n",
      "['keithlamontscott']\n",
      "['jazziemuzic', 'keithlamontscott', 'terencecrutcher', 'blacklivesmatter', '🙏🏾', 'police', 'hand', '😒']\n",
      "['keithlamontscott', 'shot', 'charlotte', 'nc']\n",
      "['keithlamontscott', '🙏💔']\n"
     ]
    }
   ],
   "source": [
    "for tweet in textData[:20]:\n",
    "    print(preprocessTweet(tweet))"
   ]
  },
  {
   "cell_type": "code",
   "execution_count": 82,
   "metadata": {
    "collapsed": true
   },
   "outputs": [],
   "source": [
    "#https://www.machinelearningplus.com/nlp/topic-modeling-gensim-python/"
   ]
  },
  {
   "cell_type": "code",
   "execution_count": 83,
   "metadata": {
    "collapsed": true
   },
   "outputs": [],
   "source": [
    "import spacy"
   ]
  },
  {
   "cell_type": "code",
   "execution_count": 86,
   "metadata": {},
   "outputs": [],
   "source": [
    "nlp = spacy.load('en')"
   ]
  },
  {
   "cell_type": "code",
   "execution_count": 88,
   "metadata": {},
   "outputs": [],
   "source": [
    "doc = nlp(textData[10]) \n"
   ]
  },
  {
   "cell_type": "code",
   "execution_count": 89,
   "metadata": {},
   "outputs": [
    {
     "data": {
      "text/plain": [
       "RT @AutumnNAlston: I'm literally disgusted and distraught #KeithScott #Charlotte"
      ]
     },
     "execution_count": 89,
     "metadata": {},
     "output_type": "execute_result"
    }
   ],
   "source": [
    "doc"
   ]
  },
  {
   "cell_type": "code",
   "execution_count": 91,
   "metadata": {},
   "outputs": [
    {
     "name": "stdout",
     "output_type": "stream",
     "text": [
      "RT rt\n",
      "@AutumnNAlston @autumnnalston\n",
      ": :\n",
      "I -PRON-\n",
      "'m be\n",
      "literally literally\n",
      "disgusted disgusted\n",
      "and and\n",
      "distraught distraught\n",
      "# #\n",
      "KeithScott keithscott\n",
      "# #\n",
      "Charlotte charlotte\n"
     ]
    }
   ],
   "source": [
    "for token in doc:\n",
    "    print(token, token.lemma_)"
   ]
  },
  {
   "cell_type": "code",
   "execution_count": null,
   "metadata": {
    "collapsed": true
   },
   "outputs": [],
   "source": []
  }
 ],
 "metadata": {
  "kernelspec": {
   "display_name": "Python 3",
   "language": "python",
   "name": "python3"
  },
  "language_info": {
   "codemirror_mode": {
    "name": "ipython",
    "version": 3
   },
   "file_extension": ".py",
   "mimetype": "text/x-python",
   "name": "python",
   "nbconvert_exporter": "python",
   "pygments_lexer": "ipython3",
   "version": "3.6.1"
  }
 },
 "nbformat": 4,
 "nbformat_minor": 2
}
